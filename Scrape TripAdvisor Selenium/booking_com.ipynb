{
 "cells": [
  {
   "cell_type": "code",
   "execution_count": 1,
   "metadata": {},
   "outputs": [],
   "source": [
    "import selenium\n",
    "from selenium import webdriver as wb\n",
    "webD = wb.Chrome(\"chromedriver.exe\")\n",
    "webD.get('https://www.booking.com/')"
   ]
  },
  {
   "cell_type": "code",
   "execution_count": 2,
   "metadata": {},
   "outputs": [],
   "source": [
    "webD.find_element_by_xpath('//*[@id=\"ss\"]').send_keys('Nairobi')\n",
    "webD.find_element_by_xpath('//*[@id=\"frm\"]/div[1]/div[4]/div[2]/button').click()\n"
   ]
  },
  {
   "cell_type": "code",
   "execution_count": null,
   "metadata": {},
   "outputs": [],
   "source": [
    "def check_exists_by_xpath(xpath):\n",
    "    try:\n",
    "        driver.find_element_by_xpath(xpath)\n",
    "    except NoSuchElementException:\n",
    "        return False\n",
    "    return True"
   ]
  },
  {
   "cell_type": "code",
   "execution_count": null,
   "metadata": {
    "scrolled": true
   },
   "outputs": [],
   "source": [
    "Links = []\n",
    "\n",
    "restLinks = webD.find_elements_by_class_name('sr_property_block_main_row')\n",
    "\n",
    "condition = True\n",
    "while condition:\n",
    "    for rest in restLinks:\n",
    "        webD.implicitly_wait(100000)\n",
    "        restaurantL = rest.find_element_by_tag_name('a').get_property('href')\n",
    "        Links.append(restaurantL)\n",
    "        webD.implicitly_wait(50000)\n",
    "    try:\n",
    "        if(check_exists_by_xpath()'//*[@id=\"search_results_table\"]/div[4]/nav/ul/li[3]/a'):\n",
    "            webD.find_element_by_xpath('//*[@id=\"search_results_table\"]/div[4]/nav/ul/li[3]/a').click()\n",
    "            webD.implicitly_wait(100000)\n",
    "    except:\n",
    "        condition = False\n",
    "    \n",
    "len(Links)"
   ]
  },
  {
   "cell_type": "code",
   "execution_count": null,
   "metadata": {
    "scrolled": true
   },
   "outputs": [],
   "source": []
  }
 ],
 "metadata": {
  "kernelspec": {
   "display_name": "Python 3",
   "language": "python",
   "name": "python3"
  },
  "language_info": {
   "codemirror_mode": {
    "name": "ipython",
    "version": 3
   },
   "file_extension": ".py",
   "mimetype": "text/x-python",
   "name": "python",
   "nbconvert_exporter": "python",
   "pygments_lexer": "ipython3",
   "version": "3.7.8"
  }
 },
 "nbformat": 4,
 "nbformat_minor": 4
}
